{
  "nbformat": 4,
  "nbformat_minor": 0,
  "metadata": {
    "colab": {
      "provenance": [],
      "authorship_tag": "ABX9TyPmbXzDynY+2aOXaPzVnQ/i",
      "include_colab_link": true
    },
    "kernelspec": {
      "name": "python3",
      "display_name": "Python 3"
    },
    "language_info": {
      "name": "python"
    }
  },
  "cells": [
    {
      "cell_type": "markdown",
      "metadata": {
        "id": "view-in-github",
        "colab_type": "text"
      },
      "source": [
        "<a href=\"https://colab.research.google.com/github/alledhathri/PRACTICE-PROBLEMS/blob/main/TOWER%20OF%20HANOI.ipynb\" target=\"_parent\"><img src=\"https://colab.research.google.com/assets/colab-badge.svg\" alt=\"Open In Colab\"/></a>"
      ]
    },
    {
      "cell_type": "code",
      "execution_count": null,
      "metadata": {
        "colab": {
          "base_uri": "https://localhost:8080/"
        },
        "id": "IUj2eXt6kmYX",
        "outputId": "75bcf1c2-fd41-4adb-99c1-ed610794573b"
      },
      "outputs": [
        {
          "output_type": "stream",
          "name": "stdout",
          "text": [
            "Overwriting lab4_hanoi.cpp\n"
          ]
        }
      ],
      "source": [
        "%%writefile lab4_hanoi.cpp\n",
        "#include<iostream>\n",
        "using namespace std;\n",
        "\n",
        "void hanoi(int n,char source,char destination,char auxiliary){\n",
        "    if(n==1){\n",
        "        cout << \"move disk 1 from\" << source << \"to\" << destination << endl;\n",
        "        return;\n",
        "\n",
        "        }\n",
        "    hanoi(n-1,source,auxiliary,destination);\n",
        "    cout << \"move disk\" << n << \"from\" << source << \"to\" << destination << endl;\n",
        "    hanoi(n-1,auxiliary,destination,source);\n",
        "    }\n",
        "int main(){\n",
        "    int n=5;\n",
        "    cout << \"tower of hanoi(c++) - steps for\" << n << \"disks:\" << endl;\n",
        "    hanoi(n,'A','C','B');\n",
        "    return 0;\n",
        "}"
      ]
    },
    {
      "cell_type": "code",
      "source": [
        "! g++ lab4_hanoi.cpp"
      ],
      "metadata": {
        "id": "rb6tzPi-m2sJ"
      },
      "execution_count": null,
      "outputs": []
    },
    {
      "cell_type": "code",
      "source": [
        "!./a.out"
      ],
      "metadata": {
        "colab": {
          "base_uri": "https://localhost:8080/"
        },
        "id": "5vOYl_uAnzVY",
        "outputId": "048a33bb-9df0-4d11-e3cb-18b4ceb85afa"
      },
      "execution_count": null,
      "outputs": [
        {
          "output_type": "stream",
          "name": "stdout",
          "text": [
            "tower of hanoi(c++) - steps for5disks:\n",
            "move disk 1 fromAtoC\n",
            "move disk2fromAtoB\n",
            "move disk 1 fromCtoB\n",
            "move disk3fromAtoC\n",
            "move disk 1 fromBtoA\n",
            "move disk2fromBtoC\n",
            "move disk 1 fromAtoC\n",
            "move disk4fromAtoB\n",
            "move disk 1 fromCtoB\n",
            "move disk2fromCtoA\n",
            "move disk 1 fromBtoA\n",
            "move disk3fromCtoB\n",
            "move disk 1 fromAtoC\n",
            "move disk2fromAtoB\n",
            "move disk 1 fromCtoB\n",
            "move disk5fromAtoC\n",
            "move disk 1 fromBtoA\n",
            "move disk2fromBtoC\n",
            "move disk 1 fromAtoC\n",
            "move disk3fromBtoA\n",
            "move disk 1 fromCtoB\n",
            "move disk2fromCtoA\n",
            "move disk 1 fromBtoA\n",
            "move disk4fromBtoC\n",
            "move disk 1 fromAtoC\n",
            "move disk2fromAtoB\n",
            "move disk 1 fromCtoB\n",
            "move disk3fromAtoC\n",
            "move disk 1 fromBtoA\n",
            "move disk2fromBtoC\n",
            "move disk 1 fromAtoC\n"
          ]
        }
      ]
    }
  ]
}